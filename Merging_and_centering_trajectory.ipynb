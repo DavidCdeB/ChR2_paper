{
 "cells": [
  {
   "cell_type": "markdown",
   "id": "35aedf0c-9b61-4591-9e6f-86beb8a8f23e",
   "metadata": {},
   "source": [
    "## 1. Merge trajectories & convert to .xtc : R1-R8"
   ]
  },
  {
   "cell_type": "markdown",
   "id": "a8db8ae6-671c-47e2-9167-3c26930fadb1",
   "metadata": {},
   "source": [
    "Given several MiMiC-QM/MM MD restart runs, we can merge them as:"
   ]
  },
  {
   "cell_type": "code",
   "execution_count": null,
   "id": "d1169164-f3e3-443b-ab7b-d8badb5b3c0f",
   "metadata": {},
   "outputs": [],
   "source": [
    "gmx_mpi_d trjcat -f \n",
    "../Restart_1/mimic.trr \n",
    "../Restart_2/mimic.trr \n",
    "../Restart_3/mimic.trr \n",
    "../Restart_4/mimic.trr \n",
    "../Restart_5/mimic.trr \n",
    "../Restart_6/mimic.trr \n",
    "../Restart_7/mimic.trr \n",
    "../Restart_8/mimic.trr \n",
    "-o mimic_R1-R8_40ps_settime.xtc --settime"
   ]
  },
  {
   "cell_type": "markdown",
   "id": "fd44d312-445f-4482-b3ef-2fb7ebe0d446",
   "metadata": {},
   "source": [
    "And hit `c (continue)` every time."
   ]
  },
  {
   "cell_type": "markdown",
   "id": "271113b7-caca-4de3-a06d-fac35a72d7f6",
   "metadata": {},
   "source": [
    "We can check the merged trajectory as:"
   ]
  },
  {
   "cell_type": "code",
   "execution_count": null,
   "id": "b17948e8-befb-4d4b-b0e9-d02927bd3229",
   "metadata": {},
   "outputs": [],
   "source": [
    "gmx_mpi_d check -f mimic_R1-R8_40ps_settime.xtc"
   ]
  },
  {
   "cell_type": "code",
   "execution_count": null,
   "id": "314c765e-6e9c-4c68-af80-95133335618c",
   "metadata": {},
   "outputs": [],
   "source": [
    "Command line:\n",
    "  gmx_mpi_d check -f mimic_R1-R8_40ps_settime.xtc\n",
    "\n",
    "Checking file mimic_R1-R8_40ps_settime.xtc\n",
    "Reading frame       0 time    0.000   \n",
    "# Atoms  204687\n",
    "Precision 0.001 (nm)\n",
    "Last frame       8000 time 80000.000   \n",
    "\n",
    "\n",
    "Item        #frames Timestep (ps)\n",
    "Step          8001    10\n",
    "Time          8001    10\n",
    "Lambda           0\n",
    "Coords        8001    10\n",
    "Velocities       0\n",
    "Forces           0\n",
    "Box           8001    10"
   ]
  },
  {
   "cell_type": "markdown",
   "id": "1700f2ba-5446-404b-b7dd-2d1aa3e296cc",
   "metadata": {},
   "source": [
    "## 2. Centering the trajectory to QM; LYR-472"
   ]
  },
  {
   "cell_type": "markdown",
   "id": "afac7485-8d60-47a2-8f89-9e0ffc099c11",
   "metadata": {},
   "source": [
    "There are two retinal Shiff base cromophores:\n",
    "- QM-sampled; LYR-472\n",
    "- MM-sampled; LYR-225"
   ]
  },
  {
   "cell_type": "markdown",
   "id": "cb3e5258-ee4e-48dd-9498-6013a251fb4b",
   "metadata": {},
   "source": [
    "In the `.gro` file, `LYR-472` is atoms `7480 - 7547`"
   ]
  },
  {
   "cell_type": "markdown",
   "id": "10474d1c-3cfc-4a78-8d18-094a4c7c6529",
   "metadata": {},
   "source": [
    "### 2.1. Create an index file"
   ]
  },
  {
   "cell_type": "code",
   "execution_count": null,
   "id": "c0dbeb1d-8c43-4339-a97a-d8215fe643e9",
   "metadata": {},
   "outputs": [],
   "source": [
    "gmx_mpi_d make_ndx -f ../mimic.tpr -o index_257-LYR_gro_indx_7480-7547.ndx"
   ]
  },
  {
   "cell_type": "code",
   "execution_count": null,
   "id": "fda6f8fd-9bad-4adb-97b4-34b5854c900d",
   "metadata": {},
   "outputs": [],
   "source": [
    "Command line:\n",
    "  gmx_mpi_d make_ndx -f ../mimic.tpr -o index_257-LYR_gro_indx_7480-7547.ndx\n",
    "\n",
    "\n",
    "Reading structure file\n",
    "Reading file ../mimic.tpr, VERSION 2021.6 (double precision)\n",
    "Reading file ../mimic.tpr, VERSION 2021.6 (double precision)\n",
    "Going to read 0 old index file(s)\n",
    "Analysing residue names:\n",
    "There are:   492    Protein residues\n",
    "There are: 49840      Other residues\n",
    "Analysing Protein...\n",
    "Analysing residues not classified as Protein/DNA/RNA/Water and splitting into groups...\n",
    "\n",
    "  0 System              : 204687 atoms\n",
    "  1 Protein             :  7778 atoms\n",
    "  2 Protein-H           :  3908 atoms\n",
    "  3 C-alpha             :   492 atoms\n",
    "  4 Backbone            :  1476 atoms\n",
    "  5 MainChain           :  1966 atoms\n",
    "  6 MainChain+Cb        :  2408 atoms\n",
    "  7 MainChain+H         :  2446 atoms\n",
    "  8 SideChain           :  5332 atoms\n",
    "  9 SideChain-H         :  1942 atoms\n",
    " 10 Prot-Masses         :  7778 atoms\n",
    " 11 non-Protein         : 196909 atoms\n",
    " 12 Other               : 196909 atoms\n",
    " 13 LYR                 :   136 atoms\n",
    " 14 POPC                : 48910 atoms\n",
    " 15 SOD                 :   134 atoms\n",
    " 16 CLA                 :   144 atoms\n",
    " 17 TIP3                : 147585 atoms\n",
    "\n",
    " nr : group      '!': not  'name' nr name   'splitch' nr    Enter: list groups\n",
    " 'a': atom       '&': and  'del' nr         'splitres' nr   'l': list residues\n",
    " 't': atom type  '|': or   'keep' nr        'splitat' nr    'h': help\n",
    " 'r': residue              'res' nr         'chain' char\n",
    " \"name\": group             'case': case sensitive           'q': save and quit\n",
    " 'ri': residue index\n",
    "\n",
    "> a 7480-7547\n",
    "\n",
    "Found 68 atoms in range 7480-7547\n",
    "\n",
    " 18 a_7480-7547         :    68 atoms\n",
    "\n",
    "> q"
   ]
  },
  {
   "cell_type": "markdown",
   "id": "db138295-ba2f-432c-9bad-9e7ef9260789",
   "metadata": {},
   "source": [
    "### 2.2. Centering trajectory and make molecules 'whole'"
   ]
  },
  {
   "cell_type": "code",
   "execution_count": null,
   "id": "f512bb00-a6f8-4f8c-93dc-65a517751d85",
   "metadata": {},
   "outputs": [],
   "source": [
    "gmx_mpi_d trjconv \n",
    "-s ../mimic.tpr \n",
    "-f ./mimic_R1-R8_40ps_settime.xtc  \n",
    "-n ./index_257-LYR_gro_indx_7480-7547.ndx \n",
    "-center -pbc mol -o mimic_R1-R8_40ps_settime_centered.xtc"
   ]
  },
  {
   "cell_type": "code",
   "execution_count": null,
   "id": "898e4245-5506-4276-a2f9-ce1b02a3b03b",
   "metadata": {},
   "outputs": [],
   "source": [
    "Command line:\n",
    "  gmx_mpi_d trjconv -s ../mimic.tpr -f ./mimic_R1-R8_40ps_settime.xtc -n index_257-LYR_gro_indx_7480-7547.ndx -center -pbc mol -o mimic_R1-R8_40ps_settime_centered.xtc\n",
    "\n",
    "Note that major changes are planned in future for trjconv, to improve usability and utility.\n",
    "Will write xtc: Compressed trajectory (portable xdr format): xtc\n",
    "Reading file ../mimic.tpr, VERSION 2021.6 (double precision)\n",
    "Reading file ../mimic.tpr, VERSION 2021.6 (double precision)\n",
    "Select group for centering\n",
    "Group     0 (         System) has 204687 elements\n",
    "Group     1 (        Protein) has  7778 elements\n",
    "Group     2 (      Protein-H) has  3908 elements\n",
    "Group     3 (        C-alpha) has   492 elements\n",
    "Group     4 (       Backbone) has  1476 elements\n",
    "Group     5 (      MainChain) has  1966 elements\n",
    "Group     6 (   MainChain+Cb) has  2408 elements\n",
    "Group     7 (    MainChain+H) has  2446 elements\n",
    "Group     8 (      SideChain) has  5332 elements\n",
    "Group     9 (    SideChain-H) has  1942 elements\n",
    "Group    10 (    Prot-Masses) has  7778 elements\n",
    "Group    11 (    non-Protein) has 196909 elements\n",
    "Group    12 (          Other) has 196909 elements\n",
    "Group    13 (            LYR) has   136 elements\n",
    "Group    14 (           POPC) has 48910 elements\n",
    "Group    15 (            SOD) has   134 elements\n",
    "Group    16 (            CLA) has   144 elements\n",
    "Group    17 (           TIP3) has 147585 elements\n",
    "Group    18 (    a_7480-7547) has    68 elements\n",
    "Select a group: 18\n",
    "Selected 18: 'a_7480-7547'\n",
    "Select group for output\n",
    "Group     0 (         System) has 204687 elements\n",
    "Group     1 (        Protein) has  7778 elements\n",
    "Group     2 (      Protein-H) has  3908 elements\n",
    "Group     3 (        C-alpha) has   492 elements\n",
    "Group     4 (       Backbone) has  1476 elements\n",
    "Group     5 (      MainChain) has  1966 elements\n",
    "Group     6 (   MainChain+Cb) has  2408 elements\n",
    "Group     7 (    MainChain+H) has  2446 elements\n",
    "Group     8 (      SideChain) has  5332 elements\n",
    "Group     9 (    SideChain-H) has  1942 elements\n",
    "Group    10 (    Prot-Masses) has  7778 elements\n",
    "Group    11 (    non-Protein) has 196909 elements\n",
    "Group    12 (          Other) has 196909 elements\n",
    "Group    13 (            LYR) has   136 elements\n",
    "Group    14 (           POPC) has 48910 elements\n",
    "Group    15 (            SOD) has   134 elements\n",
    "Group    16 (            CLA) has   144 elements\n",
    "Group    17 (           TIP3) has 147585 elements\n",
    "Group    18 (    a_7480-7547) has    68 elements\n",
    "Select a group: 0\n",
    "Selected 0: 'System'\n",
    "Reading frame       0 time    0.000   \n",
    "Precision of ./mimic_R1-R8_40ps_settime.xtc is 0.001 (nm)\n",
    "Using output precision of 0.001 (nm)\n",
    "Last frame       8000 time 80000.000    ->  frame   8000 time 80000.000      "
   ]
  },
  {
   "cell_type": "code",
   "execution_count": null,
   "id": "4b84101d-836e-4ba7-907a-bf8364e277c0",
   "metadata": {},
   "outputs": [],
   "source": [
    "gmx_mpi_d check -f mimic_R1-R8_40ps_settime_centered.xtc"
   ]
  },
  {
   "cell_type": "code",
   "execution_count": null,
   "id": "1e1afcac-edf6-443b-b575-dc3eb431f1e7",
   "metadata": {},
   "outputs": [],
   "source": [
    "Command line:\n",
    "  gmx_mpi_d check -f mimic_R1-R8_40ps_settime_centered.xtc\n",
    "\n",
    "Checking file mimic_R1-R8_40ps_settime_centered.xtc\n",
    "Reading frame       0 time    0.000   \n",
    "# Atoms  204687\n",
    "Precision 0.001 (nm)\n",
    "Last frame       8000 time 80000.000   \n",
    "\n",
    "\n",
    "Item        #frames Timestep (ps)\n",
    "Step          8001    10\n",
    "Time          8001    10\n",
    "Lambda           0\n",
    "Coords        8001    10\n",
    "Velocities       0\n",
    "Forces           0\n",
    "Box           8001    10"
   ]
  }
 ],
 "metadata": {
  "kernelspec": {
   "display_name": "Python 3 (ipykernel)",
   "language": "python",
   "name": "python3"
  },
  "language_info": {
   "codemirror_mode": {
    "name": "ipython",
    "version": 3
   },
   "file_extension": ".py",
   "mimetype": "text/x-python",
   "name": "python",
   "nbconvert_exporter": "python",
   "pygments_lexer": "ipython3",
   "version": "3.13.7"
  }
 },
 "nbformat": 4,
 "nbformat_minor": 5
}
